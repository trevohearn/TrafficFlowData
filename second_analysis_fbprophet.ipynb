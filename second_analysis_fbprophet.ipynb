{
 "cells": [
  {
   "cell_type": "markdown",
   "metadata": {},
   "source": [
    "# Imports"
   ]
  },
  {
   "cell_type": "markdown",
   "metadata": {},
   "source": [
    "## Packages"
   ]
  },
  {
   "cell_type": "code",
   "execution_count": 158,
   "metadata": {},
   "outputs": [],
   "source": [
    "import pandas as pd\n",
    "import fbprophet\n",
    "from fbprophet import Prophet\n",
    "from dateutil.easter import easter"
   ]
  },
  {
   "cell_type": "code",
   "execution_count": 495,
   "metadata": {},
   "outputs": [],
   "source": [
    "%matplotlib inline \n",
    "import numpy as np\n",
    "import matplotlib.pylab as plt\n",
    "import datetime\n",
    "import seaborn as sns\n",
    "import statsmodels.api as sm\n",
    "import glob \n",
    "# Load specific forecasting tools\n",
    "from statsmodels.tsa.arima_model import ARMA, ARIMA\n",
    "import statsmodels.api as sm\n",
    "from statsmodels.tsa.stattools import adfuller\n",
    "from statsmodels.tsa.ar_model import AR,ARResults\n",
    "from statsmodels.tsa.seasonal import seasonal_decompose\n",
    "from statsmodels.graphics.tsaplots import plot_pacf\n",
    "from statsmodels.graphics.tsaplots import plot_acf\n",
    "from sklearn.metrics import mean_squared_error\n",
    "from sklearn.preprocessing import MinMaxScaler, StandardScaler, QuantileTransformer\n",
    "from matplotlib.pylab import rcParams\n",
    "from pmdarima import auto_arima \n",
    "# Ignore harmless warnings\n",
    "import warnings\n",
    "warnings.filterwarnings(\"ignore\")\n",
    "import math"
   ]
  },
  {
   "cell_type": "code",
   "execution_count": 2,
   "metadata": {},
   "outputs": [],
   "source": [
    "# pip install fbprophet"
   ]
  },
  {
   "cell_type": "markdown",
   "metadata": {},
   "source": [
    "import pystan\n",
    "model_code = 'parameters {real y;} model {y ~ normal(0,1);}'\n",
    "model = pystan.StanModel(model_code=model_code)  # this will take a minute\n",
    "y = model.sampling(n_jobs=1).extract()['y']\n",
    "y.mean()  # should be close to 0"
   ]
  },
  {
   "cell_type": "code",
   "execution_count": 4,
   "metadata": {},
   "outputs": [],
   "source": [
    "# https://github.com/facebook/prophet/issues/1300\n",
    "## for the command pip install holidays==0.9.12"
   ]
  },
  {
   "cell_type": "markdown",
   "metadata": {},
   "source": [
    "## Data"
   ]
  },
  {
   "cell_type": "markdown",
   "metadata": {},
   "source": [
    "## File Imports"
   ]
  },
  {
   "cell_type": "markdown",
   "metadata": {},
   "source": [
    "To use this notebook, download the files from https://nswtollroaddata.com under \"Data Downloads\" for \"M1 Eastern Distibutor (ED).\" Select the years 2016, 2017, 2018, 2019, 2020 separately and download each of the CSVs separately. Put them all in a folder and DO NOT include this folder name in user_directory."
   ]
  },
  {
   "cell_type": "code",
   "execution_count": 14,
   "metadata": {},
   "outputs": [],
   "source": [
    "#get user directory\n",
    "user_directory = None"
   ]
  },
  {
   "cell_type": "code",
   "execution_count": 142,
   "metadata": {
    "code_folding": [
     1
    ]
   },
   "outputs": [],
   "source": [
    "# function to get all of the files\n",
    "def get_all_dataframes(path_to_data_folder):\n",
    "    # give the path and this function will return all of the dataframes in a sorted list \n",
    "    original_data = glob.glob(path_to_data_folder + \"/*/*/*csv\",recursive=True)\n",
    "    test_dataframe_list = []\n",
    "    training_dataframe_list = []\n",
    "    for item in original_data:\n",
    "        with open(item) as f:\n",
    "            df = pd.read_csv(f, parse_dates=[['Date', 'IntervalStart']], index_col = 'Date_IntervalStart')\n",
    "            if \"2020\" in str(f):\n",
    "                test_dataframe_list.append(df)\n",
    "            else:\n",
    "                training_dataframe_list.append(df)\n",
    "    return test_dataframe_list, training_dataframe_list"
   ]
  },
  {
   "cell_type": "code",
   "execution_count": 143,
   "metadata": {},
   "outputs": [],
   "source": [
    "# import files \n",
    "if user_directory != None:    #i.e.: use the directory given\n",
    "    test_df_list, train_df_list = get_all_dataframes(user_directory)\n",
    "else:    # point to my directory\n",
    "    test_df_list, train_df_list = get_all_dataframes(\"./eastern_distrib\")"
   ]
  },
  {
   "cell_type": "code",
   "execution_count": 144,
   "metadata": {},
   "outputs": [
    {
     "data": {
      "text/plain": [
       "48"
      ]
     },
     "execution_count": 144,
     "metadata": {},
     "output_type": "execute_result"
    }
   ],
   "source": [
    "len(train_df_list)"
   ]
  },
  {
   "cell_type": "code",
   "execution_count": 145,
   "metadata": {},
   "outputs": [
    {
     "data": {
      "text/plain": [
       "6"
      ]
     },
     "execution_count": 145,
     "metadata": {},
     "output_type": "execute_result"
    }
   ],
   "source": [
    "len(test_df_list)"
   ]
  },
  {
   "cell_type": "code",
   "execution_count": 146,
   "metadata": {},
   "outputs": [
    {
     "data": {
      "text/html": [
       "<div>\n",
       "<style scoped>\n",
       "    .dataframe tbody tr th:only-of-type {\n",
       "        vertical-align: middle;\n",
       "    }\n",
       "\n",
       "    .dataframe tbody tr th {\n",
       "        vertical-align: top;\n",
       "    }\n",
       "\n",
       "    .dataframe thead th {\n",
       "        text-align: right;\n",
       "    }\n",
       "</style>\n",
       "<table border=\"1\" class=\"dataframe\">\n",
       "  <thead>\n",
       "    <tr style=\"text-align: right;\">\n",
       "      <th></th>\n",
       "      <th>AssetID</th>\n",
       "      <th>FinancialQtrID</th>\n",
       "      <th>IntervalEnd</th>\n",
       "      <th>Version</th>\n",
       "      <th>VehicleClass</th>\n",
       "      <th>TollPointID</th>\n",
       "      <th>GantryDirection</th>\n",
       "      <th>GantryLocation</th>\n",
       "      <th>GantryGPSLatitude</th>\n",
       "      <th>GantryGPSLongitude</th>\n",
       "      <th>GantryType</th>\n",
       "      <th>TotalVolume</th>\n",
       "    </tr>\n",
       "    <tr>\n",
       "      <th>Date_IntervalStart</th>\n",
       "      <th></th>\n",
       "      <th></th>\n",
       "      <th></th>\n",
       "      <th></th>\n",
       "      <th></th>\n",
       "      <th></th>\n",
       "      <th></th>\n",
       "      <th></th>\n",
       "      <th></th>\n",
       "      <th></th>\n",
       "      <th></th>\n",
       "      <th></th>\n",
       "    </tr>\n",
       "  </thead>\n",
       "  <tbody>\n",
       "    <tr>\n",
       "      <th>2015-12-01</th>\n",
       "      <td>ED</td>\n",
       "      <td>201602</td>\n",
       "      <td>00:14</td>\n",
       "      <td>1</td>\n",
       "      <td>Car</td>\n",
       "      <td>C</td>\n",
       "      <td>N</td>\n",
       "      <td>William Street North-bound exit ramp</td>\n",
       "      <td>-33.875924</td>\n",
       "      <td>151.217253</td>\n",
       "      <td>Ramp Gantry</td>\n",
       "      <td>6</td>\n",
       "    </tr>\n",
       "    <tr>\n",
       "      <th>2015-12-01</th>\n",
       "      <td>ED</td>\n",
       "      <td>201602</td>\n",
       "      <td>00:14</td>\n",
       "      <td>1</td>\n",
       "      <td>Car</td>\n",
       "      <td>AB</td>\n",
       "      <td>N</td>\n",
       "      <td>Woolloomooloo Toll Plaza North-bound</td>\n",
       "      <td>-33.869714</td>\n",
       "      <td>151.218398</td>\n",
       "      <td>Mainline Gantry</td>\n",
       "      <td>19</td>\n",
       "    </tr>\n",
       "  </tbody>\n",
       "</table>\n",
       "</div>"
      ],
      "text/plain": [
       "                   AssetID  FinancialQtrID IntervalEnd  Version VehicleClass  \\\n",
       "Date_IntervalStart                                                             \n",
       "2015-12-01              ED          201602       00:14        1          Car   \n",
       "2015-12-01              ED          201602       00:14        1          Car   \n",
       "\n",
       "                   TollPointID GantryDirection  \\\n",
       "Date_IntervalStart                               \n",
       "2015-12-01                   C               N   \n",
       "2015-12-01                  AB               N   \n",
       "\n",
       "                                          GantryLocation  GantryGPSLatitude  \\\n",
       "Date_IntervalStart                                                            \n",
       "2015-12-01          William Street North-bound exit ramp         -33.875924   \n",
       "2015-12-01          Woolloomooloo Toll Plaza North-bound         -33.869714   \n",
       "\n",
       "                    GantryGPSLongitude       GantryType  TotalVolume  \n",
       "Date_IntervalStart                                                    \n",
       "2015-12-01                  151.217253      Ramp Gantry            6  \n",
       "2015-12-01                  151.218398  Mainline Gantry           19  "
      ]
     },
     "execution_count": 146,
     "metadata": {},
     "output_type": "execute_result"
    }
   ],
   "source": [
    "train_df_list[0].head(2)"
   ]
  },
  {
   "cell_type": "code",
   "execution_count": 148,
   "metadata": {},
   "outputs": [
    {
     "data": {
      "text/html": [
       "<div>\n",
       "<style scoped>\n",
       "    .dataframe tbody tr th:only-of-type {\n",
       "        vertical-align: middle;\n",
       "    }\n",
       "\n",
       "    .dataframe tbody tr th {\n",
       "        vertical-align: top;\n",
       "    }\n",
       "\n",
       "    .dataframe thead th {\n",
       "        text-align: right;\n",
       "    }\n",
       "</style>\n",
       "<table border=\"1\" class=\"dataframe\">\n",
       "  <thead>\n",
       "    <tr style=\"text-align: right;\">\n",
       "      <th></th>\n",
       "      <th>AssetID</th>\n",
       "      <th>FinancialQtrID</th>\n",
       "      <th>IntervalEnd</th>\n",
       "      <th>Version</th>\n",
       "      <th>VehicleClass</th>\n",
       "      <th>TollPointID</th>\n",
       "      <th>GantryDirection</th>\n",
       "      <th>GantryLocation</th>\n",
       "      <th>GantryGPSLatitude</th>\n",
       "      <th>GantryGPSLongitude</th>\n",
       "      <th>GantryType</th>\n",
       "      <th>TotalVolume</th>\n",
       "    </tr>\n",
       "    <tr>\n",
       "      <th>Date_IntervalStart</th>\n",
       "      <th></th>\n",
       "      <th></th>\n",
       "      <th></th>\n",
       "      <th></th>\n",
       "      <th></th>\n",
       "      <th></th>\n",
       "      <th></th>\n",
       "      <th></th>\n",
       "      <th></th>\n",
       "      <th></th>\n",
       "      <th></th>\n",
       "      <th></th>\n",
       "    </tr>\n",
       "  </thead>\n",
       "  <tbody>\n",
       "    <tr>\n",
       "      <th>2019-12-01</th>\n",
       "      <td>ED</td>\n",
       "      <td>202002</td>\n",
       "      <td>00:14</td>\n",
       "      <td>1</td>\n",
       "      <td>Car</td>\n",
       "      <td>AB</td>\n",
       "      <td>N</td>\n",
       "      <td>Woolloomooloo Toll Plaza North-bound</td>\n",
       "      <td>-33.869714</td>\n",
       "      <td>151.218398</td>\n",
       "      <td>Mainline Gantry</td>\n",
       "      <td>161</td>\n",
       "    </tr>\n",
       "    <tr>\n",
       "      <th>2019-12-01</th>\n",
       "      <td>ED</td>\n",
       "      <td>202002</td>\n",
       "      <td>00:14</td>\n",
       "      <td>1</td>\n",
       "      <td>Truck</td>\n",
       "      <td>AB</td>\n",
       "      <td>N</td>\n",
       "      <td>Woolloomooloo Toll Plaza North-bound</td>\n",
       "      <td>-33.869714</td>\n",
       "      <td>151.218398</td>\n",
       "      <td>Mainline Gantry</td>\n",
       "      <td>2</td>\n",
       "    </tr>\n",
       "  </tbody>\n",
       "</table>\n",
       "</div>"
      ],
      "text/plain": [
       "                   AssetID  FinancialQtrID IntervalEnd  Version VehicleClass  \\\n",
       "Date_IntervalStart                                                             \n",
       "2019-12-01              ED          202002       00:14        1          Car   \n",
       "2019-12-01              ED          202002       00:14        1        Truck   \n",
       "\n",
       "                   TollPointID GantryDirection  \\\n",
       "Date_IntervalStart                               \n",
       "2019-12-01                  AB               N   \n",
       "2019-12-01                  AB               N   \n",
       "\n",
       "                                          GantryLocation  GantryGPSLatitude  \\\n",
       "Date_IntervalStart                                                            \n",
       "2019-12-01          Woolloomooloo Toll Plaza North-bound         -33.869714   \n",
       "2019-12-01          Woolloomooloo Toll Plaza North-bound         -33.869714   \n",
       "\n",
       "                    GantryGPSLongitude       GantryType  TotalVolume  \n",
       "Date_IntervalStart                                                    \n",
       "2019-12-01                  151.218398  Mainline Gantry          161  \n",
       "2019-12-01                  151.218398  Mainline Gantry            2  "
      ]
     },
     "execution_count": 148,
     "metadata": {},
     "output_type": "execute_result"
    }
   ],
   "source": [
    "test_df_list[0].head(2)"
   ]
  },
  {
   "cell_type": "markdown",
   "metadata": {},
   "source": [
    "# Cleaning the Dataframe"
   ]
  },
  {
   "cell_type": "code",
   "execution_count": 149,
   "metadata": {},
   "outputs": [],
   "source": [
    "# function to clean the dataframe list \n",
    "def clean_dfs(dataframe_list):\n",
    "    clean_dataframe_list = []\n",
    "    for df in dataframe_list:\n",
    "        df_C = df[df['TollPointID'] == 'C']\n",
    "        df_grouped = pd.DataFrame(df_C.groupby('Date_IntervalStart').TotalVolume.sum())\n",
    "        clean_dataframe_list.append(df_grouped)\n",
    "    return clean_dataframe_list"
   ]
  },
  {
   "cell_type": "code",
   "execution_count": 150,
   "metadata": {},
   "outputs": [],
   "source": [
    "# training dataframes\n",
    "clean_train_df_list = clean_dfs(train_df_list)\n",
    "# test dataframes\n",
    "clean_test_df_list = clean_dfs(test_df_list)"
   ]
  },
  {
   "cell_type": "code",
   "execution_count": 151,
   "metadata": {},
   "outputs": [
    {
     "data": {
      "text/html": [
       "<div>\n",
       "<style scoped>\n",
       "    .dataframe tbody tr th:only-of-type {\n",
       "        vertical-align: middle;\n",
       "    }\n",
       "\n",
       "    .dataframe tbody tr th {\n",
       "        vertical-align: top;\n",
       "    }\n",
       "\n",
       "    .dataframe thead th {\n",
       "        text-align: right;\n",
       "    }\n",
       "</style>\n",
       "<table border=\"1\" class=\"dataframe\">\n",
       "  <thead>\n",
       "    <tr style=\"text-align: right;\">\n",
       "      <th></th>\n",
       "      <th>TotalVolume</th>\n",
       "    </tr>\n",
       "    <tr>\n",
       "      <th>Date_IntervalStart</th>\n",
       "      <th></th>\n",
       "    </tr>\n",
       "  </thead>\n",
       "  <tbody>\n",
       "    <tr>\n",
       "      <th>2015-12-01 00:00:00</th>\n",
       "      <td>6</td>\n",
       "    </tr>\n",
       "    <tr>\n",
       "      <th>2015-12-01 00:15:00</th>\n",
       "      <td>5</td>\n",
       "    </tr>\n",
       "  </tbody>\n",
       "</table>\n",
       "</div>"
      ],
      "text/plain": [
       "                     TotalVolume\n",
       "Date_IntervalStart              \n",
       "2015-12-01 00:00:00            6\n",
       "2015-12-01 00:15:00            5"
      ]
     },
     "execution_count": 151,
     "metadata": {},
     "output_type": "execute_result"
    }
   ],
   "source": [
    "clean_train_df_list[0].head(2)"
   ]
  },
  {
   "cell_type": "markdown",
   "metadata": {},
   "source": [
    "## Combing the list dataframes into one dataframe "
   ]
  },
  {
   "cell_type": "code",
   "execution_count": 235,
   "metadata": {},
   "outputs": [],
   "source": [
    "train_df = pd.concat(clean_train_df_list)\n",
    "test_df = pd.concat(clean_test_df_list)"
   ]
  },
  {
   "cell_type": "code",
   "execution_count": 236,
   "metadata": {},
   "outputs": [
    {
     "data": {
      "text/html": [
       "<div>\n",
       "<style scoped>\n",
       "    .dataframe tbody tr th:only-of-type {\n",
       "        vertical-align: middle;\n",
       "    }\n",
       "\n",
       "    .dataframe tbody tr th {\n",
       "        vertical-align: top;\n",
       "    }\n",
       "\n",
       "    .dataframe thead th {\n",
       "        text-align: right;\n",
       "    }\n",
       "</style>\n",
       "<table border=\"1\" class=\"dataframe\">\n",
       "  <thead>\n",
       "    <tr style=\"text-align: right;\">\n",
       "      <th></th>\n",
       "      <th>TotalVolume</th>\n",
       "    </tr>\n",
       "    <tr>\n",
       "      <th>Date_IntervalStart</th>\n",
       "      <th></th>\n",
       "    </tr>\n",
       "  </thead>\n",
       "  <tbody>\n",
       "    <tr>\n",
       "      <th>2015-12-01 00:00:00</th>\n",
       "      <td>6</td>\n",
       "    </tr>\n",
       "    <tr>\n",
       "      <th>2015-12-01 00:15:00</th>\n",
       "      <td>5</td>\n",
       "    </tr>\n",
       "  </tbody>\n",
       "</table>\n",
       "</div>"
      ],
      "text/plain": [
       "                     TotalVolume\n",
       "Date_IntervalStart              \n",
       "2015-12-01 00:00:00            6\n",
       "2015-12-01 00:15:00            5"
      ]
     },
     "execution_count": 236,
     "metadata": {},
     "output_type": "execute_result"
    }
   ],
   "source": [
    "train_df.head(2)"
   ]
  },
  {
   "cell_type": "markdown",
   "metadata": {},
   "source": [
    "### Making test_df hourly"
   ]
  },
  {
   "cell_type": "code",
   "execution_count": 337,
   "metadata": {},
   "outputs": [],
   "source": [
    "test_df_hourly = test_df.resample('h').sum()"
   ]
  },
  {
   "cell_type": "code",
   "execution_count": 338,
   "metadata": {},
   "outputs": [
    {
     "data": {
      "text/html": [
       "<div>\n",
       "<style scoped>\n",
       "    .dataframe tbody tr th:only-of-type {\n",
       "        vertical-align: middle;\n",
       "    }\n",
       "\n",
       "    .dataframe tbody tr th {\n",
       "        vertical-align: top;\n",
       "    }\n",
       "\n",
       "    .dataframe thead th {\n",
       "        text-align: right;\n",
       "    }\n",
       "</style>\n",
       "<table border=\"1\" class=\"dataframe\">\n",
       "  <thead>\n",
       "    <tr style=\"text-align: right;\">\n",
       "      <th></th>\n",
       "      <th>TotalVolume</th>\n",
       "    </tr>\n",
       "    <tr>\n",
       "      <th>Date_IntervalStart</th>\n",
       "      <th></th>\n",
       "    </tr>\n",
       "  </thead>\n",
       "  <tbody>\n",
       "    <tr>\n",
       "      <th>2019-07-01 00:00:00</th>\n",
       "      <td>29</td>\n",
       "    </tr>\n",
       "    <tr>\n",
       "      <th>2019-07-01 01:00:00</th>\n",
       "      <td>15</td>\n",
       "    </tr>\n",
       "  </tbody>\n",
       "</table>\n",
       "</div>"
      ],
      "text/plain": [
       "                     TotalVolume\n",
       "Date_IntervalStart              \n",
       "2019-07-01 00:00:00           29\n",
       "2019-07-01 01:00:00           15"
      ]
     },
     "execution_count": 338,
     "metadata": {},
     "output_type": "execute_result"
    }
   ],
   "source": [
    "test_df_hourly.head(2)"
   ]
  },
  {
   "cell_type": "code",
   "execution_count": 361,
   "metadata": {},
   "outputs": [],
   "source": [
    "test_df_hourly.reset_index(inplace=True)"
   ]
  },
  {
   "cell_type": "markdown",
   "metadata": {},
   "source": [
    "# Using fbprophet"
   ]
  },
  {
   "cell_type": "markdown",
   "metadata": {},
   "source": [
    "## Putting df in the format it requires"
   ]
  },
  {
   "cell_type": "code",
   "execution_count": 237,
   "metadata": {},
   "outputs": [],
   "source": [
    "fb_prophet_train_df = train_df.reset_index()"
   ]
  },
  {
   "cell_type": "code",
   "execution_count": 238,
   "metadata": {},
   "outputs": [],
   "source": [
    "fb_prophet_train_df.columns = ['ds', 'y']"
   ]
  },
  {
   "cell_type": "code",
   "execution_count": 239,
   "metadata": {},
   "outputs": [
    {
     "data": {
      "text/plain": [
       "Index(['ds', 'y'], dtype='object')"
      ]
     },
     "execution_count": 239,
     "metadata": {},
     "output_type": "execute_result"
    }
   ],
   "source": [
    "fb_prophet_train_df.columns"
   ]
  },
  {
   "cell_type": "code",
   "execution_count": 242,
   "metadata": {},
   "outputs": [
    {
     "data": {
      "text/plain": [
       "1   2015-12-01 00:15:00\n",
       "2   2015-12-01 00:30:00\n",
       "3   2015-12-01 00:45:00\n",
       "4   2015-12-01 01:00:00\n",
       "5   2015-12-01 01:15:00\n",
       "6   2015-12-01 01:30:00\n",
       "7   2015-12-01 01:45:00\n",
       "8   2015-12-01 02:00:00\n",
       "9   2015-12-01 02:15:00\n",
       "Name: ds, dtype: datetime64[ns]"
      ]
     },
     "execution_count": 242,
     "metadata": {},
     "output_type": "execute_result"
    }
   ],
   "source": [
    "fb_prophet_train_df['ds'][1:10]"
   ]
  },
  {
   "cell_type": "code",
   "execution_count": 270,
   "metadata": {},
   "outputs": [
    {
     "data": {
      "text/plain": [
       "pandas._libs.tslibs.timestamps.Timestamp"
      ]
     },
     "execution_count": 270,
     "metadata": {},
     "output_type": "execute_result"
    }
   ],
   "source": [
    "type(fb_prophet_train_df['ds'][0])"
   ]
  },
  {
   "cell_type": "markdown",
   "metadata": {},
   "source": [
    "### Changing type of values in ds"
   ]
  },
  {
   "cell_type": "code",
   "execution_count": 341,
   "metadata": {},
   "outputs": [],
   "source": [
    "# actual_datetime = fb_prophet_train_df['ds'][0].strftime('%Y-%m-%d-%H-%M')"
   ]
  },
  {
   "cell_type": "code",
   "execution_count": 255,
   "metadata": {},
   "outputs": [],
   "source": [
    "datetimes_str = [x.strftime('%Y-%m-%d %H:%M') for x in fb_prophet_train_df['ds']]"
   ]
  },
  {
   "cell_type": "markdown",
   "metadata": {},
   "source": [
    "### First Model"
   ]
  },
  {
   "cell_type": "code",
   "execution_count": 193,
   "metadata": {},
   "outputs": [],
   "source": [
    "# not sure what type the ds column should be \n",
    "## maybe it should be in datetime format, not pandas version of that \n",
    "fb_prophet_train_df['ds'] = fb_prophet_train_df['ds'].values.astype('<M8[D]')"
   ]
  },
  {
   "cell_type": "code",
   "execution_count": 220,
   "metadata": {},
   "outputs": [],
   "source": [
    "prophetfmodel = Prophet(daily_seasonality=True)"
   ]
  },
  {
   "cell_type": "code",
   "execution_count": 221,
   "metadata": {},
   "outputs": [
    {
     "data": {
      "text/plain": [
       "<fbprophet.forecaster.Prophet at 0x12aa62f98>"
      ]
     },
     "execution_count": 221,
     "metadata": {},
     "output_type": "execute_result"
    }
   ],
   "source": [
    "prophetfmodel.fit(fb_prophet_train_df)"
   ]
  },
  {
   "cell_type": "code",
   "execution_count": 342,
   "metadata": {},
   "outputs": [],
   "source": [
    "one_week = 24 * 4\n",
    "test_df_length = len(test_df_hourly)"
   ]
  },
  {
   "cell_type": "code",
   "execution_count": 343,
   "metadata": {},
   "outputs": [
    {
     "data": {
      "text/html": [
       "<div>\n",
       "<style scoped>\n",
       "    .dataframe tbody tr th:only-of-type {\n",
       "        vertical-align: middle;\n",
       "    }\n",
       "\n",
       "    .dataframe tbody tr th {\n",
       "        vertical-align: top;\n",
       "    }\n",
       "\n",
       "    .dataframe thead th {\n",
       "        text-align: right;\n",
       "    }\n",
       "</style>\n",
       "<table border=\"1\" class=\"dataframe\">\n",
       "  <thead>\n",
       "    <tr style=\"text-align: right;\">\n",
       "      <th></th>\n",
       "      <th>ds</th>\n",
       "    </tr>\n",
       "  </thead>\n",
       "  <tbody>\n",
       "    <tr>\n",
       "      <th>143252</th>\n",
       "      <td>2019-12-30 20:00:00</td>\n",
       "    </tr>\n",
       "    <tr>\n",
       "      <th>143253</th>\n",
       "      <td>2019-12-30 21:00:00</td>\n",
       "    </tr>\n",
       "    <tr>\n",
       "      <th>143254</th>\n",
       "      <td>2019-12-30 22:00:00</td>\n",
       "    </tr>\n",
       "    <tr>\n",
       "      <th>143255</th>\n",
       "      <td>2019-12-30 23:00:00</td>\n",
       "    </tr>\n",
       "    <tr>\n",
       "      <th>143256</th>\n",
       "      <td>2019-12-31 00:00:00</td>\n",
       "    </tr>\n",
       "  </tbody>\n",
       "</table>\n",
       "</div>"
      ],
      "text/plain": [
       "                        ds\n",
       "143252 2019-12-30 20:00:00\n",
       "143253 2019-12-30 21:00:00\n",
       "143254 2019-12-30 22:00:00\n",
       "143255 2019-12-30 23:00:00\n",
       "143256 2019-12-31 00:00:00"
      ]
     },
     "execution_count": 343,
     "metadata": {},
     "output_type": "execute_result"
    }
   ],
   "source": [
    "future = prophetfmodel.make_future_dataframe(periods=test_df_length, freq='H')\n",
    "future.tail()"
   ]
  },
  {
   "cell_type": "code",
   "execution_count": 344,
   "metadata": {},
   "outputs": [
    {
     "data": {
      "text/html": [
       "<div>\n",
       "<style scoped>\n",
       "    .dataframe tbody tr th:only-of-type {\n",
       "        vertical-align: middle;\n",
       "    }\n",
       "\n",
       "    .dataframe tbody tr th {\n",
       "        vertical-align: top;\n",
       "    }\n",
       "\n",
       "    .dataframe thead th {\n",
       "        text-align: right;\n",
       "    }\n",
       "</style>\n",
       "<table border=\"1\" class=\"dataframe\">\n",
       "  <thead>\n",
       "    <tr style=\"text-align: right;\">\n",
       "      <th></th>\n",
       "      <th>ds</th>\n",
       "      <th>yhat</th>\n",
       "      <th>yhat_lower</th>\n",
       "      <th>yhat_upper</th>\n",
       "    </tr>\n",
       "  </thead>\n",
       "  <tbody>\n",
       "    <tr>\n",
       "      <th>143252</th>\n",
       "      <td>2019-12-30 20:00:00</td>\n",
       "      <td>-12.070432</td>\n",
       "      <td>-134.256660</td>\n",
       "      <td>104.052104</td>\n",
       "    </tr>\n",
       "    <tr>\n",
       "      <th>143253</th>\n",
       "      <td>2019-12-30 21:00:00</td>\n",
       "      <td>0.197393</td>\n",
       "      <td>-120.819051</td>\n",
       "      <td>127.749343</td>\n",
       "    </tr>\n",
       "    <tr>\n",
       "      <th>143254</th>\n",
       "      <td>2019-12-30 22:00:00</td>\n",
       "      <td>46.166990</td>\n",
       "      <td>-70.038903</td>\n",
       "      <td>168.792805</td>\n",
       "    </tr>\n",
       "    <tr>\n",
       "      <th>143255</th>\n",
       "      <td>2019-12-30 23:00:00</td>\n",
       "      <td>99.710881</td>\n",
       "      <td>-16.250930</td>\n",
       "      <td>218.722918</td>\n",
       "    </tr>\n",
       "    <tr>\n",
       "      <th>143256</th>\n",
       "      <td>2019-12-31 00:00:00</td>\n",
       "      <td>123.348036</td>\n",
       "      <td>8.233784</td>\n",
       "      <td>243.991444</td>\n",
       "    </tr>\n",
       "  </tbody>\n",
       "</table>\n",
       "</div>"
      ],
      "text/plain": [
       "                        ds        yhat  yhat_lower  yhat_upper\n",
       "143252 2019-12-30 20:00:00  -12.070432 -134.256660  104.052104\n",
       "143253 2019-12-30 21:00:00    0.197393 -120.819051  127.749343\n",
       "143254 2019-12-30 22:00:00   46.166990  -70.038903  168.792805\n",
       "143255 2019-12-30 23:00:00   99.710881  -16.250930  218.722918\n",
       "143256 2019-12-31 00:00:00  123.348036    8.233784  243.991444"
      ]
     },
     "execution_count": 344,
     "metadata": {},
     "output_type": "execute_result"
    }
   ],
   "source": [
    "forecast = prophetfmodel.predict(future)\n",
    "forecast[['ds', 'yhat', 'yhat_lower', 'yhat_upper']].tail()"
   ]
  },
  {
   "cell_type": "code",
   "execution_count": 345,
   "metadata": {},
   "outputs": [
    {
     "data": {
      "image/png": "[encoded data removed]",
      "text/plain": [
       "<Figure size 720x432 with 1 Axes>"
      ]
     },
     "metadata": {},
     "output_type": "display_data"
    }
   ],
   "source": [
    "fig1 = prophetfmodel.plot(forecast)"
   ]
  },
  {
   "cell_type": "markdown",
   "metadata": {},
   "source": [
    "### Model 2"
   ]
  },
  {
   "cell_type": "markdown",
   "metadata": {},
   "source": [
    "#### New df to work with "
   ]
  },
  {
   "cell_type": "code",
   "execution_count": 258,
   "metadata": {},
   "outputs": [],
   "source": [
    "new_train_df = fb_prophet_train_df.copy()"
   ]
  },
  {
   "cell_type": "code",
   "execution_count": 259,
   "metadata": {},
   "outputs": [],
   "source": [
    "new_train_df['ds'] = datetimes_str"
   ]
  },
  {
   "cell_type": "code",
   "execution_count": 260,
   "metadata": {},
   "outputs": [
    {
     "data": {
      "text/html": [
       "<div>\n",
       "<style scoped>\n",
       "    .dataframe tbody tr th:only-of-type {\n",
       "        vertical-align: middle;\n",
       "    }\n",
       "\n",
       "    .dataframe tbody tr th {\n",
       "        vertical-align: top;\n",
       "    }\n",
       "\n",
       "    .dataframe thead th {\n",
       "        text-align: right;\n",
       "    }\n",
       "</style>\n",
       "<table border=\"1\" class=\"dataframe\">\n",
       "  <thead>\n",
       "    <tr style=\"text-align: right;\">\n",
       "      <th></th>\n",
       "      <th>ds</th>\n",
       "      <th>y</th>\n",
       "    </tr>\n",
       "  </thead>\n",
       "  <tbody>\n",
       "    <tr>\n",
       "      <th>0</th>\n",
       "      <td>2015-12-01 00:00</td>\n",
       "      <td>6</td>\n",
       "    </tr>\n",
       "    <tr>\n",
       "      <th>1</th>\n",
       "      <td>2015-12-01 00:15</td>\n",
       "      <td>5</td>\n",
       "    </tr>\n",
       "  </tbody>\n",
       "</table>\n",
       "</div>"
      ],
      "text/plain": [
       "                 ds  y\n",
       "0  2015-12-01 00:00  6\n",
       "1  2015-12-01 00:15  5"
      ]
     },
     "execution_count": 260,
     "metadata": {},
     "output_type": "execute_result"
    }
   ],
   "source": [
    "new_train_df.head(2)"
   ]
  },
  {
   "cell_type": "code",
   "execution_count": 251,
   "metadata": {},
   "outputs": [
    {
     "data": {
      "text/plain": [
       "str"
      ]
     },
     "execution_count": 251,
     "metadata": {},
     "output_type": "execute_result"
    }
   ],
   "source": [
    "type(actual_datetime)"
   ]
  },
  {
   "cell_type": "markdown",
   "metadata": {},
   "source": [
    "#### Resampling to hour "
   ]
  },
  {
   "cell_type": "code",
   "execution_count": 271,
   "metadata": {},
   "outputs": [],
   "source": [
    "daily_train_df = fb_prophet_train_df.set_index('ds')"
   ]
  },
  {
   "cell_type": "code",
   "execution_count": 273,
   "metadata": {},
   "outputs": [
    {
     "data": {
      "text/html": [
       "<div>\n",
       "<style scoped>\n",
       "    .dataframe tbody tr th:only-of-type {\n",
       "        vertical-align: middle;\n",
       "    }\n",
       "\n",
       "    .dataframe tbody tr th {\n",
       "        vertical-align: top;\n",
       "    }\n",
       "\n",
       "    .dataframe thead th {\n",
       "        text-align: right;\n",
       "    }\n",
       "</style>\n",
       "<table border=\"1\" class=\"dataframe\">\n",
       "  <thead>\n",
       "    <tr style=\"text-align: right;\">\n",
       "      <th></th>\n",
       "      <th>y</th>\n",
       "    </tr>\n",
       "    <tr>\n",
       "      <th>ds</th>\n",
       "      <th></th>\n",
       "    </tr>\n",
       "  </thead>\n",
       "  <tbody>\n",
       "    <tr>\n",
       "      <th>2015-12-01 00:00:00</th>\n",
       "      <td>6</td>\n",
       "    </tr>\n",
       "    <tr>\n",
       "      <th>2015-12-01 00:15:00</th>\n",
       "      <td>5</td>\n",
       "    </tr>\n",
       "  </tbody>\n",
       "</table>\n",
       "</div>"
      ],
      "text/plain": [
       "                     y\n",
       "ds                    \n",
       "2015-12-01 00:00:00  6\n",
       "2015-12-01 00:15:00  5"
      ]
     },
     "execution_count": 273,
     "metadata": {},
     "output_type": "execute_result"
    }
   ],
   "source": [
    "daily_train_df.head(2)"
   ]
  },
  {
   "cell_type": "code",
   "execution_count": 274,
   "metadata": {},
   "outputs": [],
   "source": [
    "train_df_days = daily_train_df.resample('h').sum()"
   ]
  },
  {
   "cell_type": "code",
   "execution_count": 275,
   "metadata": {},
   "outputs": [
    {
     "data": {
      "text/html": [
       "<div>\n",
       "<style scoped>\n",
       "    .dataframe tbody tr th:only-of-type {\n",
       "        vertical-align: middle;\n",
       "    }\n",
       "\n",
       "    .dataframe tbody tr th {\n",
       "        vertical-align: top;\n",
       "    }\n",
       "\n",
       "    .dataframe thead th {\n",
       "        text-align: right;\n",
       "    }\n",
       "</style>\n",
       "<table border=\"1\" class=\"dataframe\">\n",
       "  <thead>\n",
       "    <tr style=\"text-align: right;\">\n",
       "      <th></th>\n",
       "      <th>y</th>\n",
       "    </tr>\n",
       "    <tr>\n",
       "      <th>ds</th>\n",
       "      <th></th>\n",
       "    </tr>\n",
       "  </thead>\n",
       "  <tbody>\n",
       "    <tr>\n",
       "      <th>2015-07-01 00:00:00</th>\n",
       "      <td>19</td>\n",
       "    </tr>\n",
       "    <tr>\n",
       "      <th>2015-07-01 01:00:00</th>\n",
       "      <td>16</td>\n",
       "    </tr>\n",
       "  </tbody>\n",
       "</table>\n",
       "</div>"
      ],
      "text/plain": [
       "                      y\n",
       "ds                     \n",
       "2015-07-01 00:00:00  19\n",
       "2015-07-01 01:00:00  16"
      ]
     },
     "execution_count": 275,
     "metadata": {},
     "output_type": "execute_result"
    }
   ],
   "source": [
    "train_df_days.head(2)"
   ]
  },
  {
   "cell_type": "code",
   "execution_count": 276,
   "metadata": {},
   "outputs": [],
   "source": [
    "train_df_days.reset_index(inplace=True)"
   ]
  },
  {
   "cell_type": "markdown",
   "metadata": {},
   "source": [
    "#### Model 2"
   ]
  },
  {
   "cell_type": "code",
   "execution_count": 289,
   "metadata": {},
   "outputs": [],
   "source": [
    "prophetfmodel2 = Prophet(daily_seasonality=True, yearly_seasonality = True, weekly_seasonality = True)"
   ]
  },
  {
   "cell_type": "code",
   "execution_count": 290,
   "metadata": {},
   "outputs": [
    {
     "data": {
      "text/plain": [
       "<fbprophet.forecaster.Prophet at 0x132f89908>"
      ]
     },
     "execution_count": 290,
     "metadata": {},
     "output_type": "execute_result"
    }
   ],
   "source": [
    "prophetfmodel2.fit(train_df_days)"
   ]
  },
  {
   "cell_type": "code",
   "execution_count": 346,
   "metadata": {},
   "outputs": [],
   "source": [
    "six_month = (24 * 7)\n",
    "test_df_length = len(test_df_hourly)"
   ]
  },
  {
   "cell_type": "code",
   "execution_count": 347,
   "metadata": {},
   "outputs": [
    {
     "data": {
      "text/html": [
       "<div>\n",
       "<style scoped>\n",
       "    .dataframe tbody tr th:only-of-type {\n",
       "        vertical-align: middle;\n",
       "    }\n",
       "\n",
       "    .dataframe tbody tr th {\n",
       "        vertical-align: top;\n",
       "    }\n",
       "\n",
       "    .dataframe thead th {\n",
       "        text-align: right;\n",
       "    }\n",
       "</style>\n",
       "<table border=\"1\" class=\"dataframe\">\n",
       "  <thead>\n",
       "    <tr style=\"text-align: right;\">\n",
       "      <th></th>\n",
       "      <th>ds</th>\n",
       "    </tr>\n",
       "  </thead>\n",
       "  <tbody>\n",
       "    <tr>\n",
       "      <th>39475</th>\n",
       "      <td>2019-12-31 19:00:00</td>\n",
       "    </tr>\n",
       "    <tr>\n",
       "      <th>39476</th>\n",
       "      <td>2019-12-31 20:00:00</td>\n",
       "    </tr>\n",
       "    <tr>\n",
       "      <th>39477</th>\n",
       "      <td>2019-12-31 21:00:00</td>\n",
       "    </tr>\n",
       "    <tr>\n",
       "      <th>39478</th>\n",
       "      <td>2019-12-31 22:00:00</td>\n",
       "    </tr>\n",
       "    <tr>\n",
       "      <th>39479</th>\n",
       "      <td>2019-12-31 23:00:00</td>\n",
       "    </tr>\n",
       "  </tbody>\n",
       "</table>\n",
       "</div>"
      ],
      "text/plain": [
       "                       ds\n",
       "39475 2019-12-31 19:00:00\n",
       "39476 2019-12-31 20:00:00\n",
       "39477 2019-12-31 21:00:00\n",
       "39478 2019-12-31 22:00:00\n",
       "39479 2019-12-31 23:00:00"
      ]
     },
     "execution_count": 347,
     "metadata": {},
     "output_type": "execute_result"
    }
   ],
   "source": [
    "# I can only do hourly or minute frequencies... https://pandas.pydata.org/pandas-docs/stable/user_guide/timeseries.html#timeseries-offset-aliases\n",
    "## Either I change the data to be hourly or I try minutes\n",
    "future2 = prophetfmodel2.make_future_dataframe(periods=test_df_length, freq='H')\n",
    "future2.tail()"
   ]
  },
  {
   "cell_type": "code",
   "execution_count": 348,
   "metadata": {},
   "outputs": [
    {
     "data": {
      "text/html": [
       "<div>\n",
       "<style scoped>\n",
       "    .dataframe tbody tr th:only-of-type {\n",
       "        vertical-align: middle;\n",
       "    }\n",
       "\n",
       "    .dataframe tbody tr th {\n",
       "        vertical-align: top;\n",
       "    }\n",
       "\n",
       "    .dataframe thead th {\n",
       "        text-align: right;\n",
       "    }\n",
       "</style>\n",
       "<table border=\"1\" class=\"dataframe\">\n",
       "  <thead>\n",
       "    <tr style=\"text-align: right;\">\n",
       "      <th></th>\n",
       "      <th>ds</th>\n",
       "      <th>yhat</th>\n",
       "      <th>yhat_lower</th>\n",
       "      <th>yhat_upper</th>\n",
       "    </tr>\n",
       "  </thead>\n",
       "  <tbody>\n",
       "    <tr>\n",
       "      <th>39475</th>\n",
       "      <td>2019-12-31 19:00:00</td>\n",
       "      <td>653.026612</td>\n",
       "      <td>470.233206</td>\n",
       "      <td>831.369339</td>\n",
       "    </tr>\n",
       "    <tr>\n",
       "      <th>39476</th>\n",
       "      <td>2019-12-31 20:00:00</td>\n",
       "      <td>439.865587</td>\n",
       "      <td>255.636289</td>\n",
       "      <td>618.763620</td>\n",
       "    </tr>\n",
       "    <tr>\n",
       "      <th>39477</th>\n",
       "      <td>2019-12-31 21:00:00</td>\n",
       "      <td>250.376351</td>\n",
       "      <td>85.495922</td>\n",
       "      <td>442.897733</td>\n",
       "    </tr>\n",
       "    <tr>\n",
       "      <th>39478</th>\n",
       "      <td>2019-12-31 22:00:00</td>\n",
       "      <td>141.488202</td>\n",
       "      <td>-38.072101</td>\n",
       "      <td>321.714294</td>\n",
       "    </tr>\n",
       "    <tr>\n",
       "      <th>39479</th>\n",
       "      <td>2019-12-31 23:00:00</td>\n",
       "      <td>99.260786</td>\n",
       "      <td>-72.398799</td>\n",
       "      <td>286.548592</td>\n",
       "    </tr>\n",
       "  </tbody>\n",
       "</table>\n",
       "</div>"
      ],
      "text/plain": [
       "                       ds        yhat  yhat_lower  yhat_upper\n",
       "39475 2019-12-31 19:00:00  653.026612  470.233206  831.369339\n",
       "39476 2019-12-31 20:00:00  439.865587  255.636289  618.763620\n",
       "39477 2019-12-31 21:00:00  250.376351   85.495922  442.897733\n",
       "39478 2019-12-31 22:00:00  141.488202  -38.072101  321.714294\n",
       "39479 2019-12-31 23:00:00   99.260786  -72.398799  286.548592"
      ]
     },
     "execution_count": 348,
     "metadata": {},
     "output_type": "execute_result"
    }
   ],
   "source": [
    "forecast2 = prophetfmodel2.predict(future2)\n",
    "forecast2[['ds', 'yhat', 'yhat_lower', 'yhat_upper']].tail()"
   ]
  },
  {
   "cell_type": "code",
   "execution_count": 349,
   "metadata": {},
   "outputs": [
    {
     "data": {
      "image/png": "[encoded data removed]",
      "text/plain": [
       "<Figure size 720x432 with 1 Axes>"
      ]
     },
     "metadata": {},
     "output_type": "display_data"
    }
   ],
   "source": [
    "fig2 = prophetfmodel2.plot(forecast2)"
   ]
  },
  {
   "cell_type": "markdown",
   "metadata": {},
   "source": [
    "### Model With Cap and Min\n",
    "https://facebook.github.io/prophet/docs/saturating_forecasts.html"
   ]
  },
  {
   "cell_type": "code",
   "execution_count": 306,
   "metadata": {},
   "outputs": [],
   "source": [
    "train_df_days2 = train_df_days.copy()"
   ]
  },
  {
   "cell_type": "code",
   "execution_count": 307,
   "metadata": {},
   "outputs": [],
   "source": [
    "train_df_days2['cap'] = 1400\n",
    "train_df_days2['floor'] = 0"
   ]
  },
  {
   "cell_type": "code",
   "execution_count": 308,
   "metadata": {},
   "outputs": [],
   "source": [
    "prophetfmodel3 = Prophet(growth='logistic', daily_seasonality=True, yearly_seasonality = True, weekly_seasonality = True)"
   ]
  },
  {
   "cell_type": "code",
   "execution_count": 309,
   "metadata": {},
   "outputs": [
    {
     "data": {
      "text/plain": [
       "<fbprophet.forecaster.Prophet at 0x14011ea20>"
      ]
     },
     "execution_count": 309,
     "metadata": {},
     "output_type": "execute_result"
    }
   ],
   "source": [
    "prophetfmodel3.fit(train_df_days2)"
   ]
  },
  {
   "cell_type": "code",
   "execution_count": 350,
   "metadata": {},
   "outputs": [],
   "source": [
    "one_week = 24 * 7\n",
    "test_df_length = len(test_df_hourly)"
   ]
  },
  {
   "cell_type": "code",
   "execution_count": 351,
   "metadata": {},
   "outputs": [],
   "source": [
    "# I can only do hourly or minute frequencies... https://pandas.pydata.org/pandas-docs/stable/user_guide/timeseries.html#timeseries-offset-aliases\n",
    "## Either I change the data to be hourly or I try minutes\n",
    "future3 = prophetfmodel3.make_future_dataframe(periods=test_df_length, freq='H')\n",
    "future3.tail(2)\n",
    "future3['floor'] = 0\n",
    "future3['cap'] = 1400"
   ]
  },
  {
   "cell_type": "code",
   "execution_count": 352,
   "metadata": {},
   "outputs": [
    {
     "data": {
      "text/html": [
       "<div>\n",
       "<style scoped>\n",
       "    .dataframe tbody tr th:only-of-type {\n",
       "        vertical-align: middle;\n",
       "    }\n",
       "\n",
       "    .dataframe tbody tr th {\n",
       "        vertical-align: top;\n",
       "    }\n",
       "\n",
       "    .dataframe thead th {\n",
       "        text-align: right;\n",
       "    }\n",
       "</style>\n",
       "<table border=\"1\" class=\"dataframe\">\n",
       "  <thead>\n",
       "    <tr style=\"text-align: right;\">\n",
       "      <th></th>\n",
       "      <th>ds</th>\n",
       "      <th>yhat</th>\n",
       "      <th>yhat_lower</th>\n",
       "      <th>yhat_upper</th>\n",
       "    </tr>\n",
       "  </thead>\n",
       "  <tbody>\n",
       "    <tr>\n",
       "      <th>39475</th>\n",
       "      <td>2019-12-31 19:00:00</td>\n",
       "      <td>649.074415</td>\n",
       "      <td>466.541892</td>\n",
       "      <td>837.848200</td>\n",
       "    </tr>\n",
       "    <tr>\n",
       "      <th>39476</th>\n",
       "      <td>2019-12-31 20:00:00</td>\n",
       "      <td>435.912466</td>\n",
       "      <td>270.074076</td>\n",
       "      <td>622.325502</td>\n",
       "    </tr>\n",
       "    <tr>\n",
       "      <th>39477</th>\n",
       "      <td>2019-12-31 21:00:00</td>\n",
       "      <td>246.422386</td>\n",
       "      <td>64.111462</td>\n",
       "      <td>406.390143</td>\n",
       "    </tr>\n",
       "    <tr>\n",
       "      <th>39478</th>\n",
       "      <td>2019-12-31 22:00:00</td>\n",
       "      <td>137.533661</td>\n",
       "      <td>-43.237795</td>\n",
       "      <td>315.433467</td>\n",
       "    </tr>\n",
       "    <tr>\n",
       "      <th>39479</th>\n",
       "      <td>2019-12-31 23:00:00</td>\n",
       "      <td>95.305980</td>\n",
       "      <td>-97.885474</td>\n",
       "      <td>271.470005</td>\n",
       "    </tr>\n",
       "  </tbody>\n",
       "</table>\n",
       "</div>"
      ],
      "text/plain": [
       "                       ds        yhat  yhat_lower  yhat_upper\n",
       "39475 2019-12-31 19:00:00  649.074415  466.541892  837.848200\n",
       "39476 2019-12-31 20:00:00  435.912466  270.074076  622.325502\n",
       "39477 2019-12-31 21:00:00  246.422386   64.111462  406.390143\n",
       "39478 2019-12-31 22:00:00  137.533661  -43.237795  315.433467\n",
       "39479 2019-12-31 23:00:00   95.305980  -97.885474  271.470005"
      ]
     },
     "execution_count": 352,
     "metadata": {},
     "output_type": "execute_result"
    }
   ],
   "source": [
    "# basically same predictions as before \n",
    "forecast3 = prophetfmodel3.predict(future3)\n",
    "forecast3[['ds', 'yhat', 'yhat_lower', 'yhat_upper']].tail()"
   ]
  },
  {
   "cell_type": "code",
   "execution_count": 353,
   "metadata": {},
   "outputs": [
    {
     "data": {
      "image/png": "[encoded data removed]",
      "text/plain": [
       "<Figure size 720x432 with 1 Axes>"
      ]
     },
     "metadata": {},
     "output_type": "display_data"
    }
   ],
   "source": [
    "fig3 = prophetfmodel3.plot(forecast3)"
   ]
  },
  {
   "cell_type": "markdown",
   "metadata": {},
   "source": [
    "### Model with Normalization - MinMaxScaler"
   ]
  },
  {
   "cell_type": "code",
   "execution_count": 432,
   "metadata": {},
   "outputs": [],
   "source": [
    "hourly_values = train_df_days['y'].values"
   ]
  },
  {
   "cell_type": "code",
   "execution_count": 433,
   "metadata": {},
   "outputs": [],
   "source": [
    "hourly_values_reshaped = hourly_values.reshape((len(hourly_values), 1))"
   ]
  },
  {
   "cell_type": "code",
   "execution_count": 434,
   "metadata": {},
   "outputs": [
    {
     "data": {
      "text/plain": [
       "array([[ 19],\n",
       "       [ 16],\n",
       "       [ 11],\n",
       "       ...,\n",
       "       [308],\n",
       "       [253],\n",
       "       [ 76]])"
      ]
     },
     "execution_count": 434,
     "metadata": {},
     "output_type": "execute_result"
    }
   ],
   "source": [
    "hourly_values_reshaped"
   ]
  },
  {
   "cell_type": "code",
   "execution_count": 436,
   "metadata": {},
   "outputs": [
    {
     "name": "stdout",
     "output_type": "stream",
     "text": [
      "Min: 0.000000, Max: 1359.000000\n"
     ]
    }
   ],
   "source": [
    "scaler = MinMaxScaler(feature_range=(0, 1))\n",
    "scaler = scaler.fit(hourly_values_reshaped)\n",
    "print('Min: %f, Max: %f' % (scaler.data_min_, scaler.data_max_))"
   ]
  },
  {
   "cell_type": "code",
   "execution_count": 437,
   "metadata": {},
   "outputs": [
    {
     "name": "stdout",
     "output_type": "stream",
     "text": [
      "[0.01398087]\n",
      "[0.01177336]\n",
      "[0.00809419]\n",
      "[0.00883002]\n",
      "[0.02943341]\n"
     ]
    }
   ],
   "source": [
    "normalized = scaler.transform(hourly_values_reshaped)\n",
    "for i in range(5):\n",
    "    print(normalized[i])"
   ]
  },
  {
   "cell_type": "code",
   "execution_count": 441,
   "metadata": {},
   "outputs": [],
   "source": [
    "train_df_days_normalized = train_df_days.copy()"
   ]
  },
  {
   "cell_type": "code",
   "execution_count": 442,
   "metadata": {},
   "outputs": [],
   "source": [
    "train_df_days_normalized['y'] = normalized"
   ]
  },
  {
   "cell_type": "code",
   "execution_count": 443,
   "metadata": {},
   "outputs": [
    {
     "data": {
      "text/html": [
       "<div>\n",
       "<style scoped>\n",
       "    .dataframe tbody tr th:only-of-type {\n",
       "        vertical-align: middle;\n",
       "    }\n",
       "\n",
       "    .dataframe tbody tr th {\n",
       "        vertical-align: top;\n",
       "    }\n",
       "\n",
       "    .dataframe thead th {\n",
       "        text-align: right;\n",
       "    }\n",
       "</style>\n",
       "<table border=\"1\" class=\"dataframe\">\n",
       "  <thead>\n",
       "    <tr style=\"text-align: right;\">\n",
       "      <th></th>\n",
       "      <th>ds</th>\n",
       "      <th>y</th>\n",
       "    </tr>\n",
       "  </thead>\n",
       "  <tbody>\n",
       "    <tr>\n",
       "      <th>0</th>\n",
       "      <td>2015-07-01 00:00:00</td>\n",
       "      <td>0.013981</td>\n",
       "    </tr>\n",
       "    <tr>\n",
       "      <th>1</th>\n",
       "      <td>2015-07-01 01:00:00</td>\n",
       "      <td>0.011773</td>\n",
       "    </tr>\n",
       "  </tbody>\n",
       "</table>\n",
       "</div>"
      ],
      "text/plain": [
       "                   ds         y\n",
       "0 2015-07-01 00:00:00  0.013981\n",
       "1 2015-07-01 01:00:00  0.011773"
      ]
     },
     "execution_count": 443,
     "metadata": {},
     "output_type": "execute_result"
    }
   ],
   "source": [
    "train_df_days_normalized.head(2)"
   ]
  },
  {
   "cell_type": "code",
   "execution_count": 444,
   "metadata": {},
   "outputs": [],
   "source": [
    "prophetfmodel4 = Prophet(daily_seasonality=True, yearly_seasonality = True, weekly_seasonality = True)"
   ]
  },
  {
   "cell_type": "code",
   "execution_count": 445,
   "metadata": {},
   "outputs": [
    {
     "data": {
      "text/plain": [
       "<fbprophet.forecaster.Prophet at 0x12b9119e8>"
      ]
     },
     "execution_count": 445,
     "metadata": {},
     "output_type": "execute_result"
    }
   ],
   "source": [
    "prophetfmodel4.fit(train_df_days_normalized)"
   ]
  },
  {
   "cell_type": "code",
   "execution_count": 446,
   "metadata": {},
   "outputs": [],
   "source": [
    "test_df_length = len(test_df_hourly)"
   ]
  },
  {
   "cell_type": "code",
   "execution_count": 447,
   "metadata": {},
   "outputs": [
    {
     "data": {
      "text/html": [
       "<div>\n",
       "<style scoped>\n",
       "    .dataframe tbody tr th:only-of-type {\n",
       "        vertical-align: middle;\n",
       "    }\n",
       "\n",
       "    .dataframe tbody tr th {\n",
       "        vertical-align: top;\n",
       "    }\n",
       "\n",
       "    .dataframe thead th {\n",
       "        text-align: right;\n",
       "    }\n",
       "</style>\n",
       "<table border=\"1\" class=\"dataframe\">\n",
       "  <thead>\n",
       "    <tr style=\"text-align: right;\">\n",
       "      <th></th>\n",
       "      <th>ds</th>\n",
       "    </tr>\n",
       "  </thead>\n",
       "  <tbody>\n",
       "    <tr>\n",
       "      <th>39478</th>\n",
       "      <td>2019-12-31 22:00:00</td>\n",
       "    </tr>\n",
       "    <tr>\n",
       "      <th>39479</th>\n",
       "      <td>2019-12-31 23:00:00</td>\n",
       "    </tr>\n",
       "  </tbody>\n",
       "</table>\n",
       "</div>"
      ],
      "text/plain": [
       "                       ds\n",
       "39478 2019-12-31 22:00:00\n",
       "39479 2019-12-31 23:00:00"
      ]
     },
     "execution_count": 447,
     "metadata": {},
     "output_type": "execute_result"
    }
   ],
   "source": [
    "# I can only do hourly or minute frequencies... https://pandas.pydata.org/pandas-docs/stable/user_guide/timeseries.html#timeseries-offset-aliases\n",
    "## Either I change the data to be hourly or I try minutes\n",
    "future4 = prophetfmodel4.make_future_dataframe(periods=test_df_length, freq='H')\n",
    "future4.tail(2)"
   ]
  },
  {
   "cell_type": "code",
   "execution_count": 448,
   "metadata": {},
   "outputs": [
    {
     "data": {
      "text/html": [
       "<div>\n",
       "<style scoped>\n",
       "    .dataframe tbody tr th:only-of-type {\n",
       "        vertical-align: middle;\n",
       "    }\n",
       "\n",
       "    .dataframe tbody tr th {\n",
       "        vertical-align: top;\n",
       "    }\n",
       "\n",
       "    .dataframe thead th {\n",
       "        text-align: right;\n",
       "    }\n",
       "</style>\n",
       "<table border=\"1\" class=\"dataframe\">\n",
       "  <thead>\n",
       "    <tr style=\"text-align: right;\">\n",
       "      <th></th>\n",
       "      <th>ds</th>\n",
       "      <th>yhat</th>\n",
       "      <th>yhat_lower</th>\n",
       "      <th>yhat_upper</th>\n",
       "    </tr>\n",
       "  </thead>\n",
       "  <tbody>\n",
       "    <tr>\n",
       "      <th>39475</th>\n",
       "      <td>2019-12-31 19:00:00</td>\n",
       "      <td>0.479932</td>\n",
       "      <td>0.347881</td>\n",
       "      <td>0.596246</td>\n",
       "    </tr>\n",
       "    <tr>\n",
       "      <th>39476</th>\n",
       "      <td>2019-12-31 20:00:00</td>\n",
       "      <td>0.323081</td>\n",
       "      <td>0.190261</td>\n",
       "      <td>0.454517</td>\n",
       "    </tr>\n",
       "    <tr>\n",
       "      <th>39477</th>\n",
       "      <td>2019-12-31 21:00:00</td>\n",
       "      <td>0.183648</td>\n",
       "      <td>0.040892</td>\n",
       "      <td>0.317505</td>\n",
       "    </tr>\n",
       "    <tr>\n",
       "      <th>39478</th>\n",
       "      <td>2019-12-31 22:00:00</td>\n",
       "      <td>0.103524</td>\n",
       "      <td>-0.024446</td>\n",
       "      <td>0.238595</td>\n",
       "    </tr>\n",
       "    <tr>\n",
       "      <th>39479</th>\n",
       "      <td>2019-12-31 23:00:00</td>\n",
       "      <td>0.072452</td>\n",
       "      <td>-0.065612</td>\n",
       "      <td>0.208779</td>\n",
       "    </tr>\n",
       "  </tbody>\n",
       "</table>\n",
       "</div>"
      ],
      "text/plain": [
       "                       ds      yhat  yhat_lower  yhat_upper\n",
       "39475 2019-12-31 19:00:00  0.479932    0.347881    0.596246\n",
       "39476 2019-12-31 20:00:00  0.323081    0.190261    0.454517\n",
       "39477 2019-12-31 21:00:00  0.183648    0.040892    0.317505\n",
       "39478 2019-12-31 22:00:00  0.103524   -0.024446    0.238595\n",
       "39479 2019-12-31 23:00:00  0.072452   -0.065612    0.208779"
      ]
     },
     "execution_count": 448,
     "metadata": {},
     "output_type": "execute_result"
    }
   ],
   "source": [
    "forecast4 = prophetfmodel4.predict(future4)\n",
    "forecast4[['ds', 'yhat', 'yhat_lower', 'yhat_upper']].tail()"
   ]
  },
  {
   "cell_type": "code",
   "execution_count": 449,
   "metadata": {},
   "outputs": [
    {
     "data": {
      "image/png": "[encoded data removed]",
      "text/plain": [
       "<Figure size 720x432 with 1 Axes>"
      ]
     },
     "metadata": {},
     "output_type": "display_data"
    }
   ],
   "source": [
    "fig4 = prophetfmodel4.plot(forecast4)"
   ]
  },
  {
   "cell_type": "code",
   "execution_count": 457,
   "metadata": {},
   "outputs": [],
   "source": [
    "# rescaled predictions\n",
    "orig4_predictions = forecast4['yhat'].values\n",
    "orig4_predictions_reshaped = orig4_predictions.reshape((len(orig4_predictions), 1))\n",
    "forecast4_rescaled_predictions = scaler.inverse_transform(orig4_predictions_reshaped)\n"
   ]
  },
  {
   "cell_type": "code",
   "execution_count": 463,
   "metadata": {},
   "outputs": [
    {
     "data": {
      "text/plain": [
       "(39480, 1)"
      ]
     },
     "execution_count": 463,
     "metadata": {},
     "output_type": "execute_result"
    }
   ],
   "source": [
    "forecast4_rescaled_predictions.shape"
   ]
  },
  {
   "cell_type": "code",
   "execution_count": 467,
   "metadata": {},
   "outputs": [],
   "source": [
    "forecast4_reshaped = forecast[-39480:].copy()"
   ]
  },
  {
   "cell_type": "code",
   "execution_count": 468,
   "metadata": {},
   "outputs": [
    {
     "data": {
      "text/plain": [
       "(39480, 22)"
      ]
     },
     "execution_count": 468,
     "metadata": {},
     "output_type": "execute_result"
    }
   ],
   "source": [
    "forecast4_reshaped.shape"
   ]
  },
  {
   "cell_type": "code",
   "execution_count": 469,
   "metadata": {},
   "outputs": [],
   "source": [
    "forecast4_reshaped['yhat'] = forecast4_rescaled_predictions"
   ]
  },
  {
   "cell_type": "code",
   "execution_count": 473,
   "metadata": {},
   "outputs": [],
   "source": [
    "# forecast4_reshaped is sliiiiightly different than the other models"
   ]
  },
  {
   "cell_type": "markdown",
   "metadata": {},
   "source": [
    "### Model with Normalization - QuantileTransformer"
   ]
  },
  {
   "cell_type": "code",
   "execution_count": 504,
   "metadata": {},
   "outputs": [
    {
     "name": "stdout",
     "output_type": "stream",
     "text": [
      "1000\n"
     ]
    }
   ],
   "source": [
    "scaler2 = QuantileTransformer()\n",
    "scaler2 = scaler2.fit(hourly_values_reshaped)\n",
    "print(scaler2.n_quantiles_)"
   ]
  },
  {
   "cell_type": "code",
   "execution_count": 505,
   "metadata": {},
   "outputs": [
    {
     "name": "stdout",
     "output_type": "stream",
     "text": [
      "[0.06306306]\n",
      "[0.04704705]\n",
      "[0.02352352]\n",
      "[0.02752753]\n",
      "[0.14314314]\n"
     ]
    }
   ],
   "source": [
    "normalized2 = scaler2.transform(hourly_values_reshaped)\n",
    "for i in range(5):\n",
    "    print(normalized2[i])"
   ]
  },
  {
   "cell_type": "code",
   "execution_count": 506,
   "metadata": {},
   "outputs": [],
   "source": [
    "train_df_days_normalized2 = train_df_days.copy()"
   ]
  },
  {
   "cell_type": "code",
   "execution_count": 507,
   "metadata": {},
   "outputs": [],
   "source": [
    "train_df_days_normalized2['y'] = normalized2"
   ]
  },
  {
   "cell_type": "code",
   "execution_count": 508,
   "metadata": {},
   "outputs": [
    {
     "data": {
      "text/html": [
       "<div>\n",
       "<style scoped>\n",
       "    .dataframe tbody tr th:only-of-type {\n",
       "        vertical-align: middle;\n",
       "    }\n",
       "\n",
       "    .dataframe tbody tr th {\n",
       "        vertical-align: top;\n",
       "    }\n",
       "\n",
       "    .dataframe thead th {\n",
       "        text-align: right;\n",
       "    }\n",
       "</style>\n",
       "<table border=\"1\" class=\"dataframe\">\n",
       "  <thead>\n",
       "    <tr style=\"text-align: right;\">\n",
       "      <th></th>\n",
       "      <th>ds</th>\n",
       "      <th>y</th>\n",
       "    </tr>\n",
       "  </thead>\n",
       "  <tbody>\n",
       "    <tr>\n",
       "      <th>0</th>\n",
       "      <td>2015-07-01 00:00:00</td>\n",
       "      <td>0.063063</td>\n",
       "    </tr>\n",
       "    <tr>\n",
       "      <th>1</th>\n",
       "      <td>2015-07-01 01:00:00</td>\n",
       "      <td>0.047047</td>\n",
       "    </tr>\n",
       "  </tbody>\n",
       "</table>\n",
       "</div>"
      ],
      "text/plain": [
       "                   ds         y\n",
       "0 2015-07-01 00:00:00  0.063063\n",
       "1 2015-07-01 01:00:00  0.047047"
      ]
     },
     "execution_count": 508,
     "metadata": {},
     "output_type": "execute_result"
    }
   ],
   "source": [
    "train_df_days_normalized2.head(2)"
   ]
  },
  {
   "cell_type": "code",
   "execution_count": 510,
   "metadata": {},
   "outputs": [],
   "source": [
    "prophetfmodel5 = Prophet(daily_seasonality=True, yearly_seasonality = True, weekly_seasonality = True)"
   ]
  },
  {
   "cell_type": "code",
   "execution_count": 511,
   "metadata": {},
   "outputs": [
    {
     "data": {
      "text/plain": [
       "<fbprophet.forecaster.Prophet at 0x1607e8198>"
      ]
     },
     "execution_count": 511,
     "metadata": {},
     "output_type": "execute_result"
    }
   ],
   "source": [
    "prophetfmodel5.fit(train_df_days_normalized2)"
   ]
  },
  {
   "cell_type": "code",
   "execution_count": 512,
   "metadata": {},
   "outputs": [],
   "source": [
    "test_df_length = len(test_df_hourly)"
   ]
  },
  {
   "cell_type": "code",
   "execution_count": 513,
   "metadata": {},
   "outputs": [
    {
     "data": {
      "text/html": [
       "<div>\n",
       "<style scoped>\n",
       "    .dataframe tbody tr th:only-of-type {\n",
       "        vertical-align: middle;\n",
       "    }\n",
       "\n",
       "    .dataframe tbody tr th {\n",
       "        vertical-align: top;\n",
       "    }\n",
       "\n",
       "    .dataframe thead th {\n",
       "        text-align: right;\n",
       "    }\n",
       "</style>\n",
       "<table border=\"1\" class=\"dataframe\">\n",
       "  <thead>\n",
       "    <tr style=\"text-align: right;\">\n",
       "      <th></th>\n",
       "      <th>ds</th>\n",
       "    </tr>\n",
       "  </thead>\n",
       "  <tbody>\n",
       "    <tr>\n",
       "      <th>39478</th>\n",
       "      <td>2019-12-31 22:00:00</td>\n",
       "    </tr>\n",
       "    <tr>\n",
       "      <th>39479</th>\n",
       "      <td>2019-12-31 23:00:00</td>\n",
       "    </tr>\n",
       "  </tbody>\n",
       "</table>\n",
       "</div>"
      ],
      "text/plain": [
       "                       ds\n",
       "39478 2019-12-31 22:00:00\n",
       "39479 2019-12-31 23:00:00"
      ]
     },
     "execution_count": 513,
     "metadata": {},
     "output_type": "execute_result"
    }
   ],
   "source": [
    "# I can only do hourly or minute frequencies... https://pandas.pydata.org/pandas-docs/stable/user_guide/timeseries.html#timeseries-offset-aliases\n",
    "## Either I change the data to be hourly or I try minutes\n",
    "future5 = prophetfmodel5.make_future_dataframe(periods=test_df_length, freq='H')\n",
    "future5.tail(2)"
   ]
  },
  {
   "cell_type": "code",
   "execution_count": 514,
   "metadata": {},
   "outputs": [
    {
     "data": {
      "text/html": [
       "<div>\n",
       "<style scoped>\n",
       "    .dataframe tbody tr th:only-of-type {\n",
       "        vertical-align: middle;\n",
       "    }\n",
       "\n",
       "    .dataframe tbody tr th {\n",
       "        vertical-align: top;\n",
       "    }\n",
       "\n",
       "    .dataframe thead th {\n",
       "        text-align: right;\n",
       "    }\n",
       "</style>\n",
       "<table border=\"1\" class=\"dataframe\">\n",
       "  <thead>\n",
       "    <tr style=\"text-align: right;\">\n",
       "      <th></th>\n",
       "      <th>ds</th>\n",
       "      <th>yhat</th>\n",
       "      <th>yhat_lower</th>\n",
       "      <th>yhat_upper</th>\n",
       "    </tr>\n",
       "  </thead>\n",
       "  <tbody>\n",
       "    <tr>\n",
       "      <th>39475</th>\n",
       "      <td>2019-12-31 19:00:00</td>\n",
       "      <td>0.565435</td>\n",
       "      <td>0.402604</td>\n",
       "      <td>0.733772</td>\n",
       "    </tr>\n",
       "    <tr>\n",
       "      <th>39476</th>\n",
       "      <td>2019-12-31 20:00:00</td>\n",
       "      <td>0.409145</td>\n",
       "      <td>0.245455</td>\n",
       "      <td>0.564041</td>\n",
       "    </tr>\n",
       "    <tr>\n",
       "      <th>39477</th>\n",
       "      <td>2019-12-31 21:00:00</td>\n",
       "      <td>0.288414</td>\n",
       "      <td>0.129188</td>\n",
       "      <td>0.445216</td>\n",
       "    </tr>\n",
       "    <tr>\n",
       "      <th>39478</th>\n",
       "      <td>2019-12-31 22:00:00</td>\n",
       "      <td>0.230197</td>\n",
       "      <td>0.065140</td>\n",
       "      <td>0.386395</td>\n",
       "    </tr>\n",
       "    <tr>\n",
       "      <th>39479</th>\n",
       "      <td>2019-12-31 23:00:00</td>\n",
       "      <td>0.203061</td>\n",
       "      <td>0.050334</td>\n",
       "      <td>0.360990</td>\n",
       "    </tr>\n",
       "  </tbody>\n",
       "</table>\n",
       "</div>"
      ],
      "text/plain": [
       "                       ds      yhat  yhat_lower  yhat_upper\n",
       "39475 2019-12-31 19:00:00  0.565435    0.402604    0.733772\n",
       "39476 2019-12-31 20:00:00  0.409145    0.245455    0.564041\n",
       "39477 2019-12-31 21:00:00  0.288414    0.129188    0.445216\n",
       "39478 2019-12-31 22:00:00  0.230197    0.065140    0.386395\n",
       "39479 2019-12-31 23:00:00  0.203061    0.050334    0.360990"
      ]
     },
     "execution_count": 514,
     "metadata": {},
     "output_type": "execute_result"
    }
   ],
   "source": [
    "forecast5 = prophetfmodel5.predict(future5)\n",
    "forecast5[['ds', 'yhat', 'yhat_lower', 'yhat_upper']].tail()"
   ]
  },
  {
   "cell_type": "code",
   "execution_count": 515,
   "metadata": {},
   "outputs": [
    {
     "data": {
      "image/png": "[encoded data removed]",
      "text/plain": [
       "<Figure size 720x432 with 1 Axes>"
      ]
     },
     "metadata": {},
     "output_type": "display_data"
    }
   ],
   "source": [
    "fig5 = prophetfmodel4.plot(forecast5)"
   ]
  },
  {
   "cell_type": "code",
   "execution_count": 516,
   "metadata": {},
   "outputs": [],
   "source": [
    "# rescaled predictions\n",
    "orig5_predictions = forecast5['yhat'].values\n",
    "orig5_predictions_reshaped = orig5_predictions.reshape((len(orig5_predictions), 1))\n",
    "forecast5_rescaled_predictions = scaler2.inverse_transform(orig5_predictions_reshaped)\n"
   ]
  },
  {
   "cell_type": "code",
   "execution_count": 517,
   "metadata": {},
   "outputs": [
    {
     "data": {
      "text/plain": [
       "(39480, 1)"
      ]
     },
     "execution_count": 517,
     "metadata": {},
     "output_type": "execute_result"
    }
   ],
   "source": [
    "forecast5_rescaled_predictions.shape"
   ]
  },
  {
   "cell_type": "code",
   "execution_count": 518,
   "metadata": {},
   "outputs": [],
   "source": [
    "forecast5_reshaped = forecast[-39480:].copy()"
   ]
  },
  {
   "cell_type": "code",
   "execution_count": 519,
   "metadata": {},
   "outputs": [
    {
     "data": {
      "text/plain": [
       "(39480, 22)"
      ]
     },
     "execution_count": 519,
     "metadata": {},
     "output_type": "execute_result"
    }
   ],
   "source": [
    "forecast5_reshaped.shape"
   ]
  },
  {
   "cell_type": "code",
   "execution_count": 520,
   "metadata": {},
   "outputs": [],
   "source": [
    "forecast5_reshaped['yhat'] = forecast5_rescaled_predictions"
   ]
  },
  {
   "cell_type": "code",
   "execution_count": null,
   "metadata": {},
   "outputs": [],
   "source": []
  },
  {
   "cell_type": "markdown",
   "metadata": {},
   "source": [
    "### Standardization"
   ]
  },
  {
   "cell_type": "markdown",
   "metadata": {},
   "source": [
    "#### Does the data follow a gaussian distribution"
   ]
  },
  {
   "cell_type": "code",
   "execution_count": 478,
   "metadata": {},
   "outputs": [],
   "source": [
    "# sort data, then plot\n",
    "sorted_num_of_cars = sorted(hourly_values)"
   ]
  },
  {
   "cell_type": "code",
   "execution_count": 480,
   "metadata": {},
   "outputs": [
    {
     "data": {
      "text/plain": [
       "<matplotlib.axes._subplots.AxesSubplot at 0x140d90e80>"
      ]
     },
     "execution_count": 480,
     "metadata": {},
     "output_type": "execute_result"
    },
    {
     "data": {
      "image/png": "[encoded data removed]",
      "text/plain": [
       "<Figure size 432x288 with 1 Axes>"
      ]
     },
     "metadata": {
      "needs_background": "light"
     },
     "output_type": "display_data"
    }
   ],
   "source": [
    "# not really gaussian, so this won't work\n",
    "sns.kdeplot(sorted_num_of_cars)"
   ]
  },
  {
   "cell_type": "markdown",
   "metadata": {},
   "source": [
    "## Evaluating Models"
   ]
  },
  {
   "cell_type": "markdown",
   "metadata": {},
   "source": [
    "### Over (almost) all of test_data"
   ]
  },
  {
   "cell_type": "code",
   "execution_count": null,
   "metadata": {},
   "outputs": [],
   "source": [
    "# model 1: incorrect time frequency (predicts hour when given 15 mins)\n",
    "# model 2: linear \n",
    "# model 3: logistic "
   ]
  },
  {
   "cell_type": "code",
   "execution_count": 387,
   "metadata": {},
   "outputs": [
    {
     "data": {
      "text/plain": [
       "4416"
      ]
     },
     "execution_count": 387,
     "metadata": {},
     "output_type": "execute_result"
    }
   ],
   "source": [
    "test_df_length"
   ]
  },
  {
   "cell_type": "code",
   "execution_count": 488,
   "metadata": {
    "scrolled": true
   },
   "outputs": [
    {
     "name": "stdout",
     "output_type": "stream",
     "text": [
      "Model1_15mins Error: 488723.5655\n",
      "Model2_lin Error: 22882.04218\n",
      "Model3_log Error: 22903.96932\n",
      "Model4_norm Error: 22887.42922\n"
     ]
    }
   ],
   "source": [
    "# these models do WAAAY better over the long term\n",
    "labels = ['Model1_15mins', 'Model2_lin', 'Model3_log', 'Model4_norm']\n",
    "preds_list = [forecast[['yhat']][138864:], \n",
    "             forecast2[['yhat']][-test_df_length:-23],\n",
    "             forecast3[['yhat']][-test_df_length:-23],\n",
    "             forecast4_reshaped[['yhat']][-test_df_length:-23]]\n",
    "\n",
    "for i in range(len(preds_list)):\n",
    "    error = mean_squared_error(test_df_hourly['TotalVolume'].iloc[-test_df_length:-23], preds_list[i])\n",
    "    print(f'{labels[i]} Error: {error:11.10}')"
   ]
  },
  {
   "cell_type": "code",
   "execution_count": 418,
   "metadata": {},
   "outputs": [
    {
     "data": {
      "text/plain": [
       "'AR Error: 4111716.462\\nSARIMAX Error: 1517624.712'"
      ]
     },
     "execution_count": 418,
     "metadata": {},
     "output_type": "execute_result"
    }
   ],
   "source": [
    "\"\"\" From our previous \"Sydney_traffic\" notebook\n",
    "AR Error: 4111716.462\n",
    "SARIMAX Error: 1517624.712\"\"\""
   ]
  },
  {
   "cell_type": "markdown",
   "metadata": {},
   "source": [
    "### over 3 week period"
   ]
  },
  {
   "cell_type": "code",
   "execution_count": 390,
   "metadata": {},
   "outputs": [],
   "source": [
    "three_weeks = 24*21"
   ]
  },
  {
   "cell_type": "code",
   "execution_count": 427,
   "metadata": {},
   "outputs": [],
   "source": [
    "# forecast[['ds','yhat']][138864:-three_weeks]"
   ]
  },
  {
   "cell_type": "code",
   "execution_count": 414,
   "metadata": {},
   "outputs": [],
   "source": [
    "# forecast2[['ds','yhat']][-test_df_length:-(three_weeks+23)]"
   ]
  },
  {
   "cell_type": "code",
   "execution_count": 417,
   "metadata": {},
   "outputs": [],
   "source": [
    "# forecast3[['yhat']][-test_df_length:-(three_weeks+23)]"
   ]
  },
  {
   "cell_type": "code",
   "execution_count": 426,
   "metadata": {},
   "outputs": [],
   "source": [
    "# test_df_hourly[:3889]"
   ]
  },
  {
   "cell_type": "code",
   "execution_count": 493,
   "metadata": {},
   "outputs": [
    {
     "name": "stdout",
     "output_type": "stream",
     "text": [
      "Model1_15mins Error: 494270.20102239656\n",
      "Model2_lin Error: 22331.86082029822\n",
      "Model3_log Error: 22347.41057228934\n",
      "Model4_norm Error: 22336.000834502647\n"
     ]
    }
   ],
   "source": [
    "# fbprophet models do waaaaay better \n",
    "preds_list2 = [forecast[['yhat']][138864:-three_weeks], \n",
    "             forecast2[['yhat']][-test_df_length:-(three_weeks+23)],\n",
    "             forecast3[['yhat']][-test_df_length:-(three_weeks+23)],\n",
    "             forecast4_reshaped[['yhat']][-test_df_length:-(three_weeks+23)]]\n",
    "\n",
    "for i in range(len(preds_list2)):\n",
    "    error = mean_squared_error(test_df_hourly['TotalVolume'][:3889], preds_list2[i])\n",
    "    print(f'{labels[i]} Error: {error:11.10}')"
   ]
  },
  {
   "cell_type": "code",
   "execution_count": 409,
   "metadata": {},
   "outputs": [
    {
     "data": {
      "text/plain": [
       "'ARnolag Error: 68322.47476\\nAR Error:   58524.534\\nARMA Error: 144629.2036\\nSARIMAX Error: 150113.7128\\nSARIMAX_SEASONAL Error: 150113.7128'"
      ]
     },
     "execution_count": 409,
     "metadata": {},
     "output_type": "execute_result"
    }
   ],
   "source": [
    "\"\"\" From our previous \"Sydney_traffic\" notebook\n",
    "ARnolag Error: 68322.47476\n",
    "AR Error:   58524.534\n",
    "ARMA Error: 144629.2036\n",
    "SARIMAX Error: 150113.7128\n",
    "SARIMAX_SEASONAL Error: 150113.7128\"\"\""
   ]
  },
  {
   "cell_type": "markdown",
   "metadata": {},
   "source": [
    "### Removing any negative yhat values"
   ]
  },
  {
   "cell_type": "code",
   "execution_count": null,
   "metadata": {},
   "outputs": [],
   "source": [
    "# am I allowed to do this? We know beforehand that there can't be a negative amount of drivers on the road..."
   ]
  }
 ],
 "metadata": {
  "kernelspec": {
   "display_name": "Python [conda env:learn-env] *",
   "language": "python",
   "name": "conda-env-learn-env-py"
  },
  "language_info": {
   "codemirror_mode": {
    "name": "ipython",
    "version": 3
   },
   "file_extension": ".py",
   "mimetype": "text/x-python",
   "name": "python",
   "nbconvert_exporter": "python",
   "pygments_lexer": "ipython3",
   "version": "3.6.9"
  },
  "toc": {
   "base_numbering": 1,
   "nav_menu": {},
   "number_sections": true,
   "sideBar": true,
   "skip_h1_title": false,
   "title_cell": "Table of Contents",
   "title_sidebar": "Contents",
   "toc_cell": false,
   "toc_position": {
    "height": "calc(100% - 180px)",
    "left": "10px",
    "top": "150px",
    "width": "330.1875px"
   },
   "toc_section_display": true,
   "toc_window_display": true
  },
  "varInspector": {
   "cols": {
    "lenName": 16,
    "lenType": 16,
    "lenVar": 40
   },
   "kernels_config": {
    "python": {
     "delete_cmd_postfix": "",
     "delete_cmd_prefix": "del ",
     "library": "var_list.py",
     "varRefreshCmd": "print(var_dic_list())"
    },
    "r": {
     "delete_cmd_postfix": ") ",
     "delete_cmd_prefix": "rm(",
     "library": "var_list.r",
     "varRefreshCmd": "cat(var_dic_list()) "
    }
   },
   "types_to_exclude": [
    "module",
    "function",
    "builtin_function_or_method",
    "instance",
    "_Feature"
   ],
   "window_display": false
  }
 },
 "nbformat": 4,
 "nbformat_minor": 2
}
